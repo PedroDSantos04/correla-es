{
  "nbformat": 4,
  "nbformat_minor": 0,
  "metadata": {
    "colab": {
      "provenance": []
    },
    "kernelspec": {
      "name": "python3",
      "display_name": "Python 3"
    },
    "language_info": {
      "name": "python"
    }
  },
  "cells": [
    {
      "cell_type": "markdown",
      "source": [
        "## 1. Correlações"
      ],
      "metadata": {
        "id": "Pk5HR3SMVlcM"
      }
    },
    {
      "cell_type": "markdown",
      "source": [
        "Linear"
      ],
      "metadata": {
        "id": "fG08ARUxZ3ZF"
      }
    },
    {
      "cell_type": "code",
      "execution_count": 17,
      "metadata": {
        "id": "lnNRnCfMVTrg"
      },
      "outputs": [],
      "source": [
        "import pandas as pd\n",
        "from random import *\n",
        "import numpy as np"
      ]
    },
    {
      "cell_type": "code",
      "source": [
        "lista1 = []\n",
        "for i in range(5000):\n",
        "  a = float(gauss(0,10))\n",
        "  lista1.append(a)"
      ],
      "metadata": {
        "id": "RkRSEGqqWGce"
      },
      "execution_count": 18,
      "outputs": []
    },
    {
      "cell_type": "code",
      "source": [
        "lista2 = []\n",
        "for i in range(5000):\n",
        "  a = float(gauss(15,2))\n",
        "  lista2.append(a)"
      ],
      "metadata": {
        "id": "pIiRqg3xWff4"
      },
      "execution_count": 19,
      "outputs": []
    },
    {
      "cell_type": "code",
      "source": [
        "np.mean(lista2)"
      ],
      "metadata": {
        "colab": {
          "base_uri": "https://localhost:8080/"
        },
        "id": "Oox75Ix3WrjN",
        "outputId": "a74ccee4-f9a2-43a8-fc93-ee7a9ccd3fbc"
      },
      "execution_count": 20,
      "outputs": [
        {
          "output_type": "execute_result",
          "data": {
            "text/plain": [
              "15.011837687793019"
            ]
          },
          "metadata": {},
          "execution_count": 20
        }
      ]
    },
    {
      "cell_type": "code",
      "source": [
        "np.mean(lista1)"
      ],
      "metadata": {
        "colab": {
          "base_uri": "https://localhost:8080/"
        },
        "id": "M0uOBTZpW_xf",
        "outputId": "f2a28de6-acf9-4a7f-edd3-cf93774b1aac"
      },
      "execution_count": 21,
      "outputs": [
        {
          "output_type": "execute_result",
          "data": {
            "text/plain": [
              "0.12772566913079164"
            ]
          },
          "metadata": {},
          "execution_count": 21
        }
      ]
    },
    {
      "cell_type": "markdown",
      "source": [
        "Testes de normalidades de Shapiro Wilk\n",
        "\n"
      ],
      "metadata": {
        "id": "Dl0OEwvtXHXY"
      }
    },
    {
      "cell_type": "code",
      "source": [
        "from scipy.stats import shapiro\n",
        "stat1, pl1 = shapiro(lista1)\n",
        "if pl1 > 0.05:\n",
        "  print(\"A hipótese nula não pode ser rejeitada (os dados são normalmente distribuídos)\")\n",
        "else:\n",
        "  print(\"A hipótese nula é rejeitada (os dados não são normalmente distribuídos)\")"
      ],
      "metadata": {
        "colab": {
          "base_uri": "https://localhost:8080/"
        },
        "id": "L7XaKHZKXNqB",
        "outputId": "8aa52e4b-499b-4140-a444-b3c964a02142"
      },
      "execution_count": 22,
      "outputs": [
        {
          "output_type": "stream",
          "name": "stdout",
          "text": [
            "A hipótese nula não pode ser rejeitada (os dados são normalmente distribuídos)\n"
          ]
        }
      ]
    },
    {
      "cell_type": "code",
      "source": [
        "stat2, pl2 = shapiro(lista2)\n",
        "if pl2 > 0.05:\n",
        "  print(\"A hipótese nula não pode ser rejeitada (os dados são normalmente distribuídos)\")\n",
        "else:\n",
        "  print(\"A hipótese nula é rejeitada (os dados não são normalmente distribuídos)\")"
      ],
      "metadata": {
        "colab": {
          "base_uri": "https://localhost:8080/"
        },
        "id": "dDYW8XZVYA9a",
        "outputId": "2309c6d5-b245-43e4-8142-982ad3db7564"
      },
      "execution_count": 23,
      "outputs": [
        {
          "output_type": "stream",
          "name": "stdout",
          "text": [
            "A hipótese nula não pode ser rejeitada (os dados são normalmente distribuídos)\n"
          ]
        }
      ]
    },
    {
      "cell_type": "code",
      "source": [
        "pl1, pl2"
      ],
      "metadata": {
        "colab": {
          "base_uri": "https://localhost:8080/"
        },
        "id": "miVkdKx3YoLD",
        "outputId": "f4cc46be-94b2-4c1c-fe2e-83010cef8143"
      },
      "execution_count": 24,
      "outputs": [
        {
          "output_type": "execute_result",
          "data": {
            "text/plain": [
              "(0.8344308733940125, 0.8698232173919678)"
            ]
          },
          "metadata": {},
          "execution_count": 24
        }
      ]
    },
    {
      "cell_type": "code",
      "source": [
        "from scipy.stats import pearsonr"
      ],
      "metadata": {
        "id": "9YvKudVZYtyp"
      },
      "execution_count": 25,
      "outputs": []
    },
    {
      "cell_type": "code",
      "source": [
        "r1, p3 = pearsonr(lista1, lista2)\n",
        "\n",
        "if p3 > 0.05:\n",
        "   print(\"A hipótese nula não pode ser rejeitada (não há relação entre as variáveis)\")\n",
        "else:\n",
        "  print(\"A hipótese nula é rejeitada (há um relação entre as variáveis)\")\n"
      ],
      "metadata": {
        "colab": {
          "base_uri": "https://localhost:8080/"
        },
        "id": "fvzgVWq7Yzj9",
        "outputId": "a96eaa0e-b46d-4a60-ce54-6542cf88ae0c"
      },
      "execution_count": 26,
      "outputs": [
        {
          "output_type": "stream",
          "name": "stdout",
          "text": [
            "A hipótese nula não pode ser rejeitada (não há relação entre as variáveis)\n"
          ]
        }
      ]
    },
    {
      "cell_type": "code",
      "source": [
        "p3"
      ],
      "metadata": {
        "colab": {
          "base_uri": "https://localhost:8080/"
        },
        "id": "twAOklD-Zdpt",
        "outputId": "f8899f79-56e7-43fd-b010-89ec807944fe"
      },
      "execution_count": 27,
      "outputs": [
        {
          "output_type": "execute_result",
          "data": {
            "text/plain": [
              "0.4834721246406837"
            ]
          },
          "metadata": {},
          "execution_count": 27
        }
      ]
    },
    {
      "cell_type": "code",
      "source": [
        "r1"
      ],
      "metadata": {
        "colab": {
          "base_uri": "https://localhost:8080/"
        },
        "id": "gIsdYeTgZeeg",
        "outputId": "e22addc5-7b55-4234-ce3d-f9bdca706827"
      },
      "execution_count": 28,
      "outputs": [
        {
          "output_type": "execute_result",
          "data": {
            "text/plain": [
              "-0.009912040105625457"
            ]
          },
          "metadata": {},
          "execution_count": 28
        }
      ]
    },
    {
      "cell_type": "markdown",
      "source": [
        "Não Linear"
      ],
      "metadata": {
        "id": "ejEXidRpZ9kv"
      }
    },
    {
      "cell_type": "code",
      "source": [
        "df = pd.read_csv(\"atlas2010_recorte.csv\", decimal = \".\")"
      ],
      "metadata": {
        "id": "VHbgEom0Z_JX"
      },
      "execution_count": 29,
      "outputs": []
    },
    {
      "cell_type": "markdown",
      "source": [],
      "metadata": {
        "id": "dtgrE1MJp5RN"
      }
    },
    {
      "cell_type": "code",
      "source": [
        "df"
      ],
      "metadata": {
        "colab": {
          "base_uri": "https://localhost:8080/",
          "height": 423
        },
        "id": "zi5xuBxOagjk",
        "outputId": "ee1518a3-d507-4566-9c99-131cbfb5d21c"
      },
      "execution_count": 30,
      "outputs": [
        {
          "output_type": "execute_result",
          "data": {
            "text/plain": [
              "           uf  espvida  fectot  mort1  razdep  e_anosestudo\n",
              "0    Rondonia    70.75    2.24   23.8   47.37          8.67\n",
              "1    Rondonia    73.36    1.91   19.2   46.68          9.18\n",
              "2    Rondonia    70.39    2.15   24.8   48.12         10.09\n",
              "3    Rondonia    74.27    1.90   14.3   43.79          9.74\n",
              "4    Rondonia    72.94    2.12   18.1   45.67         10.22\n",
              "..        ...      ...     ...    ...     ...           ...\n",
              "885     Piaui    69.57    2.67   29.2   59.93          7.94\n",
              "886     Piaui    67.49    1.86   36.2   55.92          9.14\n",
              "887     Piaui    66.10    2.45   41.5   55.68          8.50\n",
              "888     Piaui    66.10    1.89   41.5   43.73          7.63\n",
              "889     Piaui    67.49    2.18   36.2   55.07          9.38\n",
              "\n",
              "[890 rows x 6 columns]"
            ],
            "text/html": [
              "\n",
              "  <div id=\"df-191192aa-654d-4991-a4f7-55a4ad1b0494\" class=\"colab-df-container\">\n",
              "    <div>\n",
              "<style scoped>\n",
              "    .dataframe tbody tr th:only-of-type {\n",
              "        vertical-align: middle;\n",
              "    }\n",
              "\n",
              "    .dataframe tbody tr th {\n",
              "        vertical-align: top;\n",
              "    }\n",
              "\n",
              "    .dataframe thead th {\n",
              "        text-align: right;\n",
              "    }\n",
              "</style>\n",
              "<table border=\"1\" class=\"dataframe\">\n",
              "  <thead>\n",
              "    <tr style=\"text-align: right;\">\n",
              "      <th></th>\n",
              "      <th>uf</th>\n",
              "      <th>espvida</th>\n",
              "      <th>fectot</th>\n",
              "      <th>mort1</th>\n",
              "      <th>razdep</th>\n",
              "      <th>e_anosestudo</th>\n",
              "    </tr>\n",
              "  </thead>\n",
              "  <tbody>\n",
              "    <tr>\n",
              "      <th>0</th>\n",
              "      <td>Rondonia</td>\n",
              "      <td>70.75</td>\n",
              "      <td>2.24</td>\n",
              "      <td>23.8</td>\n",
              "      <td>47.37</td>\n",
              "      <td>8.67</td>\n",
              "    </tr>\n",
              "    <tr>\n",
              "      <th>1</th>\n",
              "      <td>Rondonia</td>\n",
              "      <td>73.36</td>\n",
              "      <td>1.91</td>\n",
              "      <td>19.2</td>\n",
              "      <td>46.68</td>\n",
              "      <td>9.18</td>\n",
              "    </tr>\n",
              "    <tr>\n",
              "      <th>2</th>\n",
              "      <td>Rondonia</td>\n",
              "      <td>70.39</td>\n",
              "      <td>2.15</td>\n",
              "      <td>24.8</td>\n",
              "      <td>48.12</td>\n",
              "      <td>10.09</td>\n",
              "    </tr>\n",
              "    <tr>\n",
              "      <th>3</th>\n",
              "      <td>Rondonia</td>\n",
              "      <td>74.27</td>\n",
              "      <td>1.90</td>\n",
              "      <td>14.3</td>\n",
              "      <td>43.79</td>\n",
              "      <td>9.74</td>\n",
              "    </tr>\n",
              "    <tr>\n",
              "      <th>4</th>\n",
              "      <td>Rondonia</td>\n",
              "      <td>72.94</td>\n",
              "      <td>2.12</td>\n",
              "      <td>18.1</td>\n",
              "      <td>45.67</td>\n",
              "      <td>10.22</td>\n",
              "    </tr>\n",
              "    <tr>\n",
              "      <th>...</th>\n",
              "      <td>...</td>\n",
              "      <td>...</td>\n",
              "      <td>...</td>\n",
              "      <td>...</td>\n",
              "      <td>...</td>\n",
              "      <td>...</td>\n",
              "    </tr>\n",
              "    <tr>\n",
              "      <th>885</th>\n",
              "      <td>Piaui</td>\n",
              "      <td>69.57</td>\n",
              "      <td>2.67</td>\n",
              "      <td>29.2</td>\n",
              "      <td>59.93</td>\n",
              "      <td>7.94</td>\n",
              "    </tr>\n",
              "    <tr>\n",
              "      <th>886</th>\n",
              "      <td>Piaui</td>\n",
              "      <td>67.49</td>\n",
              "      <td>1.86</td>\n",
              "      <td>36.2</td>\n",
              "      <td>55.92</td>\n",
              "      <td>9.14</td>\n",
              "    </tr>\n",
              "    <tr>\n",
              "      <th>887</th>\n",
              "      <td>Piaui</td>\n",
              "      <td>66.10</td>\n",
              "      <td>2.45</td>\n",
              "      <td>41.5</td>\n",
              "      <td>55.68</td>\n",
              "      <td>8.50</td>\n",
              "    </tr>\n",
              "    <tr>\n",
              "      <th>888</th>\n",
              "      <td>Piaui</td>\n",
              "      <td>66.10</td>\n",
              "      <td>1.89</td>\n",
              "      <td>41.5</td>\n",
              "      <td>43.73</td>\n",
              "      <td>7.63</td>\n",
              "    </tr>\n",
              "    <tr>\n",
              "      <th>889</th>\n",
              "      <td>Piaui</td>\n",
              "      <td>67.49</td>\n",
              "      <td>2.18</td>\n",
              "      <td>36.2</td>\n",
              "      <td>55.07</td>\n",
              "      <td>9.38</td>\n",
              "    </tr>\n",
              "  </tbody>\n",
              "</table>\n",
              "<p>890 rows × 6 columns</p>\n",
              "</div>\n",
              "    <div class=\"colab-df-buttons\">\n",
              "\n",
              "  <div class=\"colab-df-container\">\n",
              "    <button class=\"colab-df-convert\" onclick=\"convertToInteractive('df-191192aa-654d-4991-a4f7-55a4ad1b0494')\"\n",
              "            title=\"Convert this dataframe to an interactive table.\"\n",
              "            style=\"display:none;\">\n",
              "\n",
              "  <svg xmlns=\"http://www.w3.org/2000/svg\" height=\"24px\" viewBox=\"0 -960 960 960\">\n",
              "    <path d=\"M120-120v-720h720v720H120Zm60-500h600v-160H180v160Zm220 220h160v-160H400v160Zm0 220h160v-160H400v160ZM180-400h160v-160H180v160Zm440 0h160v-160H620v160ZM180-180h160v-160H180v160Zm440 0h160v-160H620v160Z\"/>\n",
              "  </svg>\n",
              "    </button>\n",
              "\n",
              "  <style>\n",
              "    .colab-df-container {\n",
              "      display:flex;\n",
              "      gap: 12px;\n",
              "    }\n",
              "\n",
              "    .colab-df-convert {\n",
              "      background-color: #E8F0FE;\n",
              "      border: none;\n",
              "      border-radius: 50%;\n",
              "      cursor: pointer;\n",
              "      display: none;\n",
              "      fill: #1967D2;\n",
              "      height: 32px;\n",
              "      padding: 0 0 0 0;\n",
              "      width: 32px;\n",
              "    }\n",
              "\n",
              "    .colab-df-convert:hover {\n",
              "      background-color: #E2EBFA;\n",
              "      box-shadow: 0px 1px 2px rgba(60, 64, 67, 0.3), 0px 1px 3px 1px rgba(60, 64, 67, 0.15);\n",
              "      fill: #174EA6;\n",
              "    }\n",
              "\n",
              "    .colab-df-buttons div {\n",
              "      margin-bottom: 4px;\n",
              "    }\n",
              "\n",
              "    [theme=dark] .colab-df-convert {\n",
              "      background-color: #3B4455;\n",
              "      fill: #D2E3FC;\n",
              "    }\n",
              "\n",
              "    [theme=dark] .colab-df-convert:hover {\n",
              "      background-color: #434B5C;\n",
              "      box-shadow: 0px 1px 3px 1px rgba(0, 0, 0, 0.15);\n",
              "      filter: drop-shadow(0px 1px 2px rgba(0, 0, 0, 0.3));\n",
              "      fill: #FFFFFF;\n",
              "    }\n",
              "  </style>\n",
              "\n",
              "    <script>\n",
              "      const buttonEl =\n",
              "        document.querySelector('#df-191192aa-654d-4991-a4f7-55a4ad1b0494 button.colab-df-convert');\n",
              "      buttonEl.style.display =\n",
              "        google.colab.kernel.accessAllowed ? 'block' : 'none';\n",
              "\n",
              "      async function convertToInteractive(key) {\n",
              "        const element = document.querySelector('#df-191192aa-654d-4991-a4f7-55a4ad1b0494');\n",
              "        const dataTable =\n",
              "          await google.colab.kernel.invokeFunction('convertToInteractive',\n",
              "                                                    [key], {});\n",
              "        if (!dataTable) return;\n",
              "\n",
              "        const docLinkHtml = 'Like what you see? Visit the ' +\n",
              "          '<a target=\"_blank\" href=https://colab.research.google.com/notebooks/data_table.ipynb>data table notebook</a>'\n",
              "          + ' to learn more about interactive tables.';\n",
              "        element.innerHTML = '';\n",
              "        dataTable['output_type'] = 'display_data';\n",
              "        await google.colab.output.renderOutput(dataTable, element);\n",
              "        const docLink = document.createElement('div');\n",
              "        docLink.innerHTML = docLinkHtml;\n",
              "        element.appendChild(docLink);\n",
              "      }\n",
              "    </script>\n",
              "  </div>\n",
              "\n",
              "\n",
              "<div id=\"df-9bdaa3f4-af85-47c3-8a5c-9244fea50ad7\">\n",
              "  <button class=\"colab-df-quickchart\" onclick=\"quickchart('df-9bdaa3f4-af85-47c3-8a5c-9244fea50ad7')\"\n",
              "            title=\"Suggest charts\"\n",
              "            style=\"display:none;\">\n",
              "\n",
              "<svg xmlns=\"http://www.w3.org/2000/svg\" height=\"24px\"viewBox=\"0 0 24 24\"\n",
              "     width=\"24px\">\n",
              "    <g>\n",
              "        <path d=\"M19 3H5c-1.1 0-2 .9-2 2v14c0 1.1.9 2 2 2h14c1.1 0 2-.9 2-2V5c0-1.1-.9-2-2-2zM9 17H7v-7h2v7zm4 0h-2V7h2v10zm4 0h-2v-4h2v4z\"/>\n",
              "    </g>\n",
              "</svg>\n",
              "  </button>\n",
              "\n",
              "<style>\n",
              "  .colab-df-quickchart {\n",
              "      --bg-color: #E8F0FE;\n",
              "      --fill-color: #1967D2;\n",
              "      --hover-bg-color: #E2EBFA;\n",
              "      --hover-fill-color: #174EA6;\n",
              "      --disabled-fill-color: #AAA;\n",
              "      --disabled-bg-color: #DDD;\n",
              "  }\n",
              "\n",
              "  [theme=dark] .colab-df-quickchart {\n",
              "      --bg-color: #3B4455;\n",
              "      --fill-color: #D2E3FC;\n",
              "      --hover-bg-color: #434B5C;\n",
              "      --hover-fill-color: #FFFFFF;\n",
              "      --disabled-bg-color: #3B4455;\n",
              "      --disabled-fill-color: #666;\n",
              "  }\n",
              "\n",
              "  .colab-df-quickchart {\n",
              "    background-color: var(--bg-color);\n",
              "    border: none;\n",
              "    border-radius: 50%;\n",
              "    cursor: pointer;\n",
              "    display: none;\n",
              "    fill: var(--fill-color);\n",
              "    height: 32px;\n",
              "    padding: 0;\n",
              "    width: 32px;\n",
              "  }\n",
              "\n",
              "  .colab-df-quickchart:hover {\n",
              "    background-color: var(--hover-bg-color);\n",
              "    box-shadow: 0 1px 2px rgba(60, 64, 67, 0.3), 0 1px 3px 1px rgba(60, 64, 67, 0.15);\n",
              "    fill: var(--button-hover-fill-color);\n",
              "  }\n",
              "\n",
              "  .colab-df-quickchart-complete:disabled,\n",
              "  .colab-df-quickchart-complete:disabled:hover {\n",
              "    background-color: var(--disabled-bg-color);\n",
              "    fill: var(--disabled-fill-color);\n",
              "    box-shadow: none;\n",
              "  }\n",
              "\n",
              "  .colab-df-spinner {\n",
              "    border: 2px solid var(--fill-color);\n",
              "    border-color: transparent;\n",
              "    border-bottom-color: var(--fill-color);\n",
              "    animation:\n",
              "      spin 1s steps(1) infinite;\n",
              "  }\n",
              "\n",
              "  @keyframes spin {\n",
              "    0% {\n",
              "      border-color: transparent;\n",
              "      border-bottom-color: var(--fill-color);\n",
              "      border-left-color: var(--fill-color);\n",
              "    }\n",
              "    20% {\n",
              "      border-color: transparent;\n",
              "      border-left-color: var(--fill-color);\n",
              "      border-top-color: var(--fill-color);\n",
              "    }\n",
              "    30% {\n",
              "      border-color: transparent;\n",
              "      border-left-color: var(--fill-color);\n",
              "      border-top-color: var(--fill-color);\n",
              "      border-right-color: var(--fill-color);\n",
              "    }\n",
              "    40% {\n",
              "      border-color: transparent;\n",
              "      border-right-color: var(--fill-color);\n",
              "      border-top-color: var(--fill-color);\n",
              "    }\n",
              "    60% {\n",
              "      border-color: transparent;\n",
              "      border-right-color: var(--fill-color);\n",
              "    }\n",
              "    80% {\n",
              "      border-color: transparent;\n",
              "      border-right-color: var(--fill-color);\n",
              "      border-bottom-color: var(--fill-color);\n",
              "    }\n",
              "    90% {\n",
              "      border-color: transparent;\n",
              "      border-bottom-color: var(--fill-color);\n",
              "    }\n",
              "  }\n",
              "</style>\n",
              "\n",
              "  <script>\n",
              "    async function quickchart(key) {\n",
              "      const quickchartButtonEl =\n",
              "        document.querySelector('#' + key + ' button');\n",
              "      quickchartButtonEl.disabled = true;  // To prevent multiple clicks.\n",
              "      quickchartButtonEl.classList.add('colab-df-spinner');\n",
              "      try {\n",
              "        const charts = await google.colab.kernel.invokeFunction(\n",
              "            'suggestCharts', [key], {});\n",
              "      } catch (error) {\n",
              "        console.error('Error during call to suggestCharts:', error);\n",
              "      }\n",
              "      quickchartButtonEl.classList.remove('colab-df-spinner');\n",
              "      quickchartButtonEl.classList.add('colab-df-quickchart-complete');\n",
              "    }\n",
              "    (() => {\n",
              "      let quickchartButtonEl =\n",
              "        document.querySelector('#df-9bdaa3f4-af85-47c3-8a5c-9244fea50ad7 button');\n",
              "      quickchartButtonEl.style.display =\n",
              "        google.colab.kernel.accessAllowed ? 'block' : 'none';\n",
              "    })();\n",
              "  </script>\n",
              "</div>\n",
              "\n",
              "  <div id=\"id_900f4bf8-6a11-4131-901f-d87f0c73e93a\">\n",
              "    <style>\n",
              "      .colab-df-generate {\n",
              "        background-color: #E8F0FE;\n",
              "        border: none;\n",
              "        border-radius: 50%;\n",
              "        cursor: pointer;\n",
              "        display: none;\n",
              "        fill: #1967D2;\n",
              "        height: 32px;\n",
              "        padding: 0 0 0 0;\n",
              "        width: 32px;\n",
              "      }\n",
              "\n",
              "      .colab-df-generate:hover {\n",
              "        background-color: #E2EBFA;\n",
              "        box-shadow: 0px 1px 2px rgba(60, 64, 67, 0.3), 0px 1px 3px 1px rgba(60, 64, 67, 0.15);\n",
              "        fill: #174EA6;\n",
              "      }\n",
              "\n",
              "      [theme=dark] .colab-df-generate {\n",
              "        background-color: #3B4455;\n",
              "        fill: #D2E3FC;\n",
              "      }\n",
              "\n",
              "      [theme=dark] .colab-df-generate:hover {\n",
              "        background-color: #434B5C;\n",
              "        box-shadow: 0px 1px 3px 1px rgba(0, 0, 0, 0.15);\n",
              "        filter: drop-shadow(0px 1px 2px rgba(0, 0, 0, 0.3));\n",
              "        fill: #FFFFFF;\n",
              "      }\n",
              "    </style>\n",
              "    <button class=\"colab-df-generate\" onclick=\"generateWithVariable('df')\"\n",
              "            title=\"Generate code using this dataframe.\"\n",
              "            style=\"display:none;\">\n",
              "\n",
              "  <svg xmlns=\"http://www.w3.org/2000/svg\" height=\"24px\"viewBox=\"0 0 24 24\"\n",
              "       width=\"24px\">\n",
              "    <path d=\"M7,19H8.4L18.45,9,17,7.55,7,17.6ZM5,21V16.75L18.45,3.32a2,2,0,0,1,2.83,0l1.4,1.43a1.91,1.91,0,0,1,.58,1.4,1.91,1.91,0,0,1-.58,1.4L9.25,21ZM18.45,9,17,7.55Zm-12,3A5.31,5.31,0,0,0,4.9,8.1,5.31,5.31,0,0,0,1,6.5,5.31,5.31,0,0,0,4.9,4.9,5.31,5.31,0,0,0,6.5,1,5.31,5.31,0,0,0,8.1,4.9,5.31,5.31,0,0,0,12,6.5,5.46,5.46,0,0,0,6.5,12Z\"/>\n",
              "  </svg>\n",
              "    </button>\n",
              "    <script>\n",
              "      (() => {\n",
              "      const buttonEl =\n",
              "        document.querySelector('#id_900f4bf8-6a11-4131-901f-d87f0c73e93a button.colab-df-generate');\n",
              "      buttonEl.style.display =\n",
              "        google.colab.kernel.accessAllowed ? 'block' : 'none';\n",
              "\n",
              "      buttonEl.onclick = () => {\n",
              "        google.colab.notebook.generateWithVariable('df');\n",
              "      }\n",
              "      })();\n",
              "    </script>\n",
              "  </div>\n",
              "\n",
              "    </div>\n",
              "  </div>\n"
            ],
            "application/vnd.google.colaboratory.intrinsic+json": {
              "type": "dataframe",
              "variable_name": "df",
              "summary": "{\n  \"name\": \"df\",\n  \"rows\": 890,\n  \"fields\": [\n    {\n      \"column\": \"uf\",\n      \"properties\": {\n        \"dtype\": \"category\",\n        \"num_unique_values\": 9,\n        \"samples\": [\n          \"Maranhao\",\n          \"Acre\",\n          \"Amapa\"\n        ],\n        \"semantic_type\": \"\",\n        \"description\": \"\"\n      }\n    },\n    {\n      \"column\": \"espvida\",\n      \"properties\": {\n        \"dtype\": \"number\",\n        \"std\": 2.0127731348615696,\n        \"min\": 65.64,\n        \"max\": 75.81,\n        \"num_unique_values\": 490,\n        \"samples\": [\n          70.2,\n          68.63,\n          68.23\n        ],\n        \"semantic_type\": \"\",\n        \"description\": \"\"\n      }\n    },\n    {\n      \"column\": \"fectot\",\n      \"properties\": {\n        \"dtype\": \"number\",\n        \"std\": 0.5816485723707038,\n        \"min\": 1.42,\n        \"max\": 4.89,\n        \"num_unique_values\": 237,\n        \"samples\": [\n          1.7,\n          2.18,\n          3.58\n        ],\n        \"semantic_type\": \"\",\n        \"description\": \"\"\n      }\n    },\n    {\n      \"column\": \"mort1\",\n      \"properties\": {\n        \"dtype\": \"number\",\n        \"std\": 6.653428582241652,\n        \"min\": 12.4,\n        \"max\": 45.3,\n        \"num_unique_values\": 288,\n        \"samples\": [\n          24.4,\n          17.1,\n          29.1\n        ],\n        \"semantic_type\": \"\",\n        \"description\": \"\"\n      }\n    },\n    {\n      \"column\": \"razdep\",\n      \"properties\": {\n        \"dtype\": \"number\",\n        \"std\": 10.128412175234622,\n        \"min\": 40.67,\n        \"max\": 118.04,\n        \"num_unique_values\": 782,\n        \"samples\": [\n          64.63,\n          66.69,\n          79.01\n        ],\n        \"semantic_type\": \"\",\n        \"description\": \"\"\n      }\n    },\n    {\n      \"column\": \"e_anosestudo\",\n      \"properties\": {\n        \"dtype\": \"number\",\n        \"std\": 1.0974082765743403,\n        \"min\": 4.34,\n        \"max\": 11.53,\n        \"num_unique_values\": 365,\n        \"samples\": [\n          7.64,\n          9.0,\n          9.08\n        ],\n        \"semantic_type\": \"\",\n        \"description\": \"\"\n      }\n    }\n  ]\n}"
            }
          },
          "metadata": {},
          "execution_count": 30
        }
      ]
    },
    {
      "cell_type": "code",
      "source": [
        "from scipy.stats import spearmanr\n",
        "\n",
        "r2, p4 = spearmanr(df.fectot, df.mort1)"
      ],
      "metadata": {
        "id": "7lO_jLamanJM"
      },
      "execution_count": 31,
      "outputs": []
    },
    {
      "cell_type": "code",
      "source": [
        "if p4 > 0.05:\n",
        "  print(\"A hipótese nula não pode ser rejeitada (não há relação entre as variáveis)\")\n",
        "else:\n",
        "  print(\"A hipótese nula é rejeitada (há relação entre as variáveis)\")"
      ],
      "metadata": {
        "colab": {
          "base_uri": "https://localhost:8080/"
        },
        "id": "jdFdNQ0Xa5zw",
        "outputId": "0be4d1db-b50d-439d-b9fa-8387239a2a58"
      },
      "execution_count": 32,
      "outputs": [
        {
          "output_type": "stream",
          "name": "stdout",
          "text": [
            "A hipótese nula é rejeitada (há relação entre as variáveis)\n"
          ]
        }
      ]
    },
    {
      "cell_type": "code",
      "source": [
        "r2"
      ],
      "metadata": {
        "colab": {
          "base_uri": "https://localhost:8080/"
        },
        "id": "-Wif80MEbYIq",
        "outputId": "1925c9ed-c3be-4a09-804b-fdc3f3d88606"
      },
      "execution_count": 33,
      "outputs": [
        {
          "output_type": "execute_result",
          "data": {
            "text/plain": [
              "0.11017263789182423"
            ]
          },
          "metadata": {},
          "execution_count": 33
        }
      ]
    },
    {
      "cell_type": "code",
      "source": [
        "covariance = np.cov(df.fectot, df.mort1)\n",
        "covariance"
      ],
      "metadata": {
        "colab": {
          "base_uri": "https://localhost:8080/"
        },
        "id": "HFcIlzJ6blN6",
        "outputId": "304b474c-0337-498f-fe7f-ebea07cc07d6"
      },
      "execution_count": 34,
      "outputs": [
        {
          "output_type": "execute_result",
          "data": {
            "text/plain": [
              "array([[ 0.33831506,  0.39546171],\n",
              "       [ 0.39546171, 44.2681119 ]])"
            ]
          },
          "metadata": {},
          "execution_count": 34
        }
      ]
    },
    {
      "cell_type": "code",
      "source": [
        "cov_xy = covariance[0,1]\n",
        "cov_xy"
      ],
      "metadata": {
        "colab": {
          "base_uri": "https://localhost:8080/"
        },
        "id": "BCl5schnpXXe",
        "outputId": "46c9496b-e95f-4828-d25e-74b499257498"
      },
      "execution_count": 35,
      "outputs": [
        {
          "output_type": "execute_result",
          "data": {
            "text/plain": [
              "0.39546170928072205"
            ]
          },
          "metadata": {},
          "execution_count": 35
        }
      ]
    },
    {
      "cell_type": "code",
      "source": [
        "import matplotlib.pyplot as plt\n",
        "plt.scatter(df.fectot, df.mort1)\n",
        "plt.xlabel('fectot')\n",
        "plt.ylabel('mort1')"
      ],
      "metadata": {
        "colab": {
          "base_uri": "https://localhost:8080/",
          "height": 466
        },
        "id": "-UjFcAonp7aK",
        "outputId": "e7ec857e-013c-4e05-b81f-1d248505776a"
      },
      "execution_count": 37,
      "outputs": [
        {
          "output_type": "execute_result",
          "data": {
            "text/plain": [
              "Text(0, 0.5, 'mort1')"
            ]
          },
          "metadata": {},
          "execution_count": 37
        },
        {
          "output_type": "display_data",
          "data": {
            "text/plain": [
              "<Figure size 640x480 with 1 Axes>"
            ],
            "image/png": "[encoded data removed]"
          },
          "metadata": {}
        }
      ]
    },
    {
      "cell_type": "code",
      "source": [
        "import statsmodels.formula.api as sn\n",
        "model = sn.ols(formula='fectot ~ mort1', data = df).fit()\n",
        "\n",
        "print(model.summary())"
      ],
      "metadata": {
        "colab": {
          "base_uri": "https://localhost:8080/"
        },
        "id": "XnQCGHqbqXQ1",
        "outputId": "21595587-5c23-45bd-a466-01a98bf78ea0"
      },
      "execution_count": 40,
      "outputs": [
        {
          "output_type": "stream",
          "name": "stdout",
          "text": [
            "                            OLS Regression Results                            \n",
            "==============================================================================\n",
            "Dep. Variable:                 fectot   R-squared:                       0.010\n",
            "Model:                            OLS   Adj. R-squared:                  0.009\n",
            "Method:                 Least Squares   F-statistic:                     9.371\n",
            "Date:                Thu, 07 Mar 2024   Prob (F-statistic):            0.00227\n",
            "Time:                        02:08:53   Log-Likelihood:                -775.40\n",
            "No. Observations:                 890   AIC:                             1555.\n",
            "Df Residuals:                     888   BIC:                             1564.\n",
            "Df Model:                           1                                         \n",
            "Covariance Type:            nonrobust                                         \n",
            "==============================================================================\n",
            "                 coef    std err          t      P>|t|      [0.025      0.975]\n",
            "------------------------------------------------------------------------------\n",
            "Intercept      2.5617      0.077     33.108      0.000       2.410       2.714\n",
            "mort1          0.0089      0.003      3.061      0.002       0.003       0.015\n",
            "==============================================================================\n",
            "Omnibus:                       77.794   Durbin-Watson:                   1.057\n",
            "Prob(Omnibus):                  0.000   Jarque-Bera (JB):               98.235\n",
            "Skew:                           0.743   Prob(JB):                     4.66e-22\n",
            "Kurtosis:                       3.665   Cond. No.                         106.\n",
            "==============================================================================\n",
            "\n",
            "Notes:\n",
            "[1] Standard Errors assume that the covariance matrix of the errors is correctly specified.\n"
          ]
        }
      ]
    }
  ]
}